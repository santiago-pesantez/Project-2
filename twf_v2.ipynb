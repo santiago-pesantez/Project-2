{
 "cells": [
  {
   "cell_type": "markdown",
   "id": "7ec1ff1f-d54c-4818-8204-d6587425b76e",
   "metadata": {},
   "source": [
    "# Trade with feelings\n",
    "## Twitter sentiment analysis"
   ]
  },
  {
   "cell_type": "code",
   "execution_count": 17,
   "id": "d48eda5b-fdbb-461c-af96-89b8dae322b5",
   "metadata": {},
   "outputs": [],
   "source": [
    "# Import required libraries\n",
    "\n",
    "import requests\n",
    "import os\n",
    "import json\n",
    "from dotenv import load_dotenv\n",
    "import time\n",
    "import pandas as pd\n",
    "import csv\n",
    "\n",
    "#import tweepy\n",
    "#from twitter_authentication import bearer_token\n",
    "\n",
    "import numpy as np\n",
    "import re\n",
    "import string\n",
    "from nltk.corpus import stopwords\n",
    "from nltk.tokenize import word_tokenize\n",
    "from sklearn.feature_extraction.text import TfidfVectorizer\n",
    "from sklearn.model_selection import train_test_split\n",
    "from nltk.stem import PorterStemmer\n",
    "from nltk.stem import WordNetLemmatizer\n",
    "\n",
    "from textblob import TextBlob\n",
    "\n",
    "# ML Libraries\n",
    "from sklearn.metrics import accuracy_score\n",
    "from sklearn.naive_bayes import MultinomialNB\n",
    "from sklearn.linear_model import LogisticRegression\n",
    "from sklearn.svm import SVC\n",
    "\n",
    "#import nltk\n",
    "#nltk.download('stopwords')\n",
    "#nltk.download('punkt')\n",
    "    \n",
    "# Global Parameters\n",
    "stop_words = set(stopwords.words('english'))\n"
   ]
  },
  {
   "cell_type": "code",
   "execution_count": 2,
   "id": "4056c5a3-9635-4428-b3c2-8baa136ab652",
   "metadata": {},
   "outputs": [
    {
     "data": {
      "text/plain": [
       "True"
      ]
     },
     "execution_count": 2,
     "metadata": {},
     "output_type": "execute_result"
    }
   ],
   "source": [
    "# Load the environment variables from the .env file by calling the load_dotenv function\n",
    "load_dotenv(\"twitter.env\")"
   ]
  },
  {
   "cell_type": "code",
   "execution_count": 3,
   "id": "1ec50d75-336c-4878-94a3-04ee47c700e0",
   "metadata": {},
   "outputs": [
    {
     "data": {
      "text/plain": [
       "str"
      ]
     },
     "execution_count": 3,
     "metadata": {},
     "output_type": "execute_result"
    }
   ],
   "source": [
    "# Get the API key from the environment variable and store as Python variable\n",
    "consumer_key = os.getenv(\"CONSUMER_KEY\")\n",
    "consumer_secret = os.getenv(\"CONSUMER_SECRET\")\n",
    "access_token = os.getenv(\"ACCESS_TOKEN\")\n",
    "access_token_secret = os.getenv(\"ACCESS_TOKEN_SECRET\")\n",
    "bearer_token = os.getenv(\"BEARER_TOKEN\")\n",
    "\n",
    "type(bearer_token)"
   ]
  },
  {
   "cell_type": "markdown",
   "id": "e78597b4-130f-4f2b-a0ad-bd537ce01e07",
   "metadata": {},
   "source": [
    "### Define funtions to reuse in the code"
   ]
  },
  {
   "cell_type": "code",
   "execution_count": 36,
   "id": "ed708be3-5e45-4a11-96e4-e23a66603df8",
   "metadata": {},
   "outputs": [],
   "source": [
    "#search_url = \"https://api.twitter.com/2/tweets/search/all\"\n",
    "search_url = \"https://api.twitter.com/2/tweets/search/recent\"\n",
    "\n",
    "ticker_to_query = 'BTC'\n",
    "\n",
    "# Optional params: start_time,end_time,since_id,until_id,max_results,next_token,\n",
    "# expansions,tweet.fields,media.fields,poll.fields,place.fields,user.fields\n",
    "query_params = {'query': f'(#{ticker_to_query} -is:retweet)',\n",
    "                'tweet.fields': 'created_at,public_metrics,text,author_id', \n",
    "                'max_results': '100',\n",
    "               }\n",
    "\n",
    "def bearer_oauth(r):\n",
    "    \"\"\"\n",
    "    Method required by bearer token authentication.\n",
    "    \"\"\"\n",
    "\n",
    "    r.headers[\"Authorization\"] = f\"Bearer {bearer_token}\"\n",
    "    r.headers[\"User-Agent\"] = \"v2FullArchiveSearchPython\"\n",
    "    return r\n",
    "\n",
    "def connect_to_endpoint(url, params):\n",
    "    response = requests.request(\"GET\", url, auth=bearer_oauth, params=params)\n",
    "    print(response.status_code)\n",
    "    if response.status_code != 200:\n",
    "        raise Exception(response.status_code, response.text)\n",
    "    return response.json()\n",
    "\n",
    "def remove_unwanted_cols(dataset, cols):\n",
    "    for col in cols:\n",
    "        del dataset[col]\n",
    "    return dataset\n",
    "\n",
    "def preprocess_tweet_text(tweet):\n",
    "    tweet.lower()\n",
    "    # Remove urls\n",
    "    tweet = re.sub(r\"http\\S+|www\\S+|https\\S+\", '', tweet, flags=re.MULTILINE)\n",
    "    # Remove user @ references and '#' from tweet\n",
    "    tweet = re.sub(r'\\@\\w+|\\#','', tweet)\n",
    "    # Remove punctuations\n",
    "    tweet = tweet.translate(str.maketrans('', '', string.punctuation))\n",
    "    # Remove stopwords\n",
    "    tweet_tokens = word_tokenize(tweet)\n",
    "    filtered_words = [w for w in tweet_tokens if not w in stop_words]\n",
    "    \n",
    "    #ps = PorterStemmer()\n",
    "    #stemmed_words = [ps.stem(w) for w in filtered_words]\n",
    "    #lemmatizer = WordNetLemmatizer()\n",
    "    #lemma_words = [lemmatizer.lemmatize(w, pos='a') for w in stemmed_words]\n",
    "    \n",
    "    return \" \".join(filtered_words)\n",
    "\n",
    "def get_feature_vector(train_fit):\n",
    "    vector = TfidfVectorizer(sublinear_tf=True)\n",
    "    vector.fit(train_fit)\n",
    "    return vector\n",
    "\n",
    "def polarity_to_string(sentiment):\n",
    "    if sentiment < 0:\n",
    "        return \"Negative\"\n",
    "    elif sentiment == 0:\n",
    "        return \"Neutral\"\n",
    "    else:\n",
    "        return \"Positive\"\n",
    "\n",
    "def get_sentiment(df, txt_col):\n",
    "    return df[txt_col].map(lambda txt: TextBlob(txt).sentiment.polarity)\n"
   ]
  },
  {
   "cell_type": "code",
   "execution_count": 37,
   "id": "5e2bcc49-12e4-4632-917c-4ac358cdc49d",
   "metadata": {},
   "outputs": [
    {
     "name": "stdout",
     "output_type": "stream",
     "text": [
      "200\n"
     ]
    }
   ],
   "source": [
    "# Request data from Twitter\n",
    "twitter_json_response = connect_to_endpoint(search_url, query_params)\n",
    "#print(json.dumps(twitter_json_response, indent=4, sort_keys=True))"
   ]
  },
  {
   "cell_type": "code",
   "execution_count": 38,
   "id": "3427d407-45a8-4c12-bc1b-e606267efbf3",
   "metadata": {},
   "outputs": [
    {
     "name": "stdout",
     "output_type": "stream",
     "text": [
      "{\n",
      "    \"author_id\": \"1552242131632136192\",\n",
      "    \"created_at\": \"2022-08-03T21:58:43.000Z\",\n",
      "    \"id\": \"1554949914882641920\",\n",
      "    \"public_metrics\": {\n",
      "        \"like_count\": 0,\n",
      "        \"quote_count\": 0,\n",
      "        \"reply_count\": 0,\n",
      "        \"retweet_count\": 0\n",
      "    },\n",
      "    \"text\": \"@superconnecter IKOLF #ikolf #bsc #bscgems #100x #floki #memecoin  #nfts #nft #1000x #bnb\\u202f\\u202f\\u202f\\u202f #btc\\u202f\\u202f\\u202f #SHIB  #shiba #doge #bep20 @elonmusk  @1goonrich #cro\\u202f\\u202f\\u202f\\u202f#cryptocurrency #avax\\u202f\\u202f\\u202f\\u202f\\u202f#eth\"\n",
      "}\n"
     ]
    }
   ],
   "source": [
    "#type(twitter_json_response)\n",
    "#type(twitter_json_response['data'])\n",
    "\n",
    "print(json.dumps(twitter_json_response['data'][0], indent=4, sort_keys=True))"
   ]
  },
  {
   "cell_type": "code",
   "execution_count": 40,
   "id": "339d6e93-8ced-4ded-8112-6147e2db8606",
   "metadata": {},
   "outputs": [],
   "source": [
    "myFile = open('twitter_data.csv', 'w', errors='ignore')\n",
    "writer = csv.DictWriter(myFile, fieldnames=['text', 'id', 'author_id','created_at','public_metrics'])\n",
    "writer.writeheader()\n",
    "writer.writerows(twitter_json_response['data'])\n",
    "myFile.close()\n",
    "\n",
    "#myFile = open('twitter_data.csv', 'r')\n",
    "#print(\"The content of the csv file is:\")\n",
    "#print(myFile.read())\n",
    "#myFile.close()"
   ]
  },
  {
   "cell_type": "markdown",
   "id": "8ebeb87c-7e1d-429b-8a24-ec3fc26065cd",
   "metadata": {},
   "source": [
    "### Process the data"
   ]
  },
  {
   "cell_type": "code",
   "execution_count": 9,
   "id": "3f02fca9-c795-4bc7-a44a-c62857b7d69d",
   "metadata": {},
   "outputs": [
    {
     "data": {
      "text/html": [
       "<div>\n",
       "<style scoped>\n",
       "    .dataframe tbody tr th:only-of-type {\n",
       "        vertical-align: middle;\n",
       "    }\n",
       "\n",
       "    .dataframe tbody tr th {\n",
       "        vertical-align: top;\n",
       "    }\n",
       "\n",
       "    .dataframe thead th {\n",
       "        text-align: right;\n",
       "    }\n",
       "</style>\n",
       "<table border=\"1\" class=\"dataframe\">\n",
       "  <thead>\n",
       "    <tr style=\"text-align: right;\">\n",
       "      <th></th>\n",
       "      <th>text</th>\n",
       "      <th>id</th>\n",
       "      <th>author_id</th>\n",
       "      <th>created_at</th>\n",
       "      <th>public_metrics</th>\n",
       "    </tr>\n",
       "  </thead>\n",
       "  <tbody>\n",
       "    <tr>\n",
       "      <th>0</th>\n",
       "      <td>@monkeygunz1 #AmazingLove to the #spookyshiba ...</td>\n",
       "      <td>1554936877873958912</td>\n",
       "      <td>4309139774</td>\n",
       "      <td>2022-08-03 21:06:55+00:00</td>\n",
       "      <td>{'retweet_count': 0, 'reply_count': 0, 'like_c...</td>\n",
       "    </tr>\n",
       "    <tr>\n",
       "      <th>1</th>\n",
       "      <td>@monkeygunz1 #AmazingLove to the #spookyshiba ...</td>\n",
       "      <td>1554936864611610624</td>\n",
       "      <td>4309139774</td>\n",
       "      <td>2022-08-03 21:06:52+00:00</td>\n",
       "      <td>{'retweet_count': 0, 'reply_count': 0, 'like_c...</td>\n",
       "    </tr>\n",
       "    <tr>\n",
       "      <th>2</th>\n",
       "      <td>Current #Bitcoin price is $23359.6 USD.\\n\\nFol...</td>\n",
       "      <td>1554936861491175424</td>\n",
       "      <td>1543816638692151296</td>\n",
       "      <td>2022-08-03 21:06:51+00:00</td>\n",
       "      <td>{'retweet_count': 0, 'reply_count': 0, 'like_c...</td>\n",
       "    </tr>\n",
       "    <tr>\n",
       "      <th>3</th>\n",
       "      <td>Uyumayan 100 kişi varmıdır ? 🖐️\\n#btc #binance</td>\n",
       "      <td>1554936857431080960</td>\n",
       "      <td>1397362012456378368</td>\n",
       "      <td>2022-08-03 21:06:50+00:00</td>\n",
       "      <td>{'retweet_count': 3, 'reply_count': 2, 'like_c...</td>\n",
       "    </tr>\n",
       "    <tr>\n",
       "      <th>4</th>\n",
       "      <td>@MMF_Canada @MMFcrypto #AmazingLove to the #sp...</td>\n",
       "      <td>1554936855870820352</td>\n",
       "      <td>1552698277245624320</td>\n",
       "      <td>2022-08-03 21:06:50+00:00</td>\n",
       "      <td>{'retweet_count': 0, 'reply_count': 0, 'like_c...</td>\n",
       "    </tr>\n",
       "  </tbody>\n",
       "</table>\n",
       "</div>"
      ],
      "text/plain": [
       "                                                text                   id  \\\n",
       "0  @monkeygunz1 #AmazingLove to the #spookyshiba ...  1554936877873958912   \n",
       "1  @monkeygunz1 #AmazingLove to the #spookyshiba ...  1554936864611610624   \n",
       "2  Current #Bitcoin price is $23359.6 USD.\\n\\nFol...  1554936861491175424   \n",
       "3     Uyumayan 100 kişi varmıdır ? 🖐️\\n#btc #binance  1554936857431080960   \n",
       "4  @MMF_Canada @MMFcrypto #AmazingLove to the #sp...  1554936855870820352   \n",
       "\n",
       "             author_id                created_at  \\\n",
       "0           4309139774 2022-08-03 21:06:55+00:00   \n",
       "1           4309139774 2022-08-03 21:06:52+00:00   \n",
       "2  1543816638692151296 2022-08-03 21:06:51+00:00   \n",
       "3  1397362012456378368 2022-08-03 21:06:50+00:00   \n",
       "4  1552698277245624320 2022-08-03 21:06:50+00:00   \n",
       "\n",
       "                                      public_metrics  \n",
       "0  {'retweet_count': 0, 'reply_count': 0, 'like_c...  \n",
       "1  {'retweet_count': 0, 'reply_count': 0, 'like_c...  \n",
       "2  {'retweet_count': 0, 'reply_count': 0, 'like_c...  \n",
       "3  {'retweet_count': 3, 'reply_count': 2, 'like_c...  \n",
       "4  {'retweet_count': 0, 'reply_count': 0, 'like_c...  "
      ]
     },
     "execution_count": 9,
     "metadata": {},
     "output_type": "execute_result"
    }
   ],
   "source": [
    "# Convert Json to DataFrame\n",
    "tweets_df = pd.read_json(json.dumps(twitter_json_response['data']))\n",
    "tweets_df.head()"
   ]
  },
  {
   "cell_type": "code",
   "execution_count": 27,
   "id": "5db13d18-2b83-44d4-8a3c-90d0eaeaf4d9",
   "metadata": {},
   "outputs": [
    {
     "data": {
      "text/html": [
       "<div>\n",
       "<style scoped>\n",
       "    .dataframe tbody tr th:only-of-type {\n",
       "        vertical-align: middle;\n",
       "    }\n",
       "\n",
       "    .dataframe tbody tr th {\n",
       "        vertical-align: top;\n",
       "    }\n",
       "\n",
       "    .dataframe thead th {\n",
       "        text-align: right;\n",
       "    }\n",
       "</style>\n",
       "<table border=\"1\" class=\"dataframe\">\n",
       "  <thead>\n",
       "    <tr style=\"text-align: right;\">\n",
       "      <th></th>\n",
       "      <th>author_id</th>\n",
       "      <th>id</th>\n",
       "      <th>public_metrics</th>\n",
       "      <th>text</th>\n",
       "      <th>created_at</th>\n",
       "      <th>geo</th>\n",
       "    </tr>\n",
       "  </thead>\n",
       "  <tbody>\n",
       "    <tr>\n",
       "      <th>0</th>\n",
       "      <td>2195266826</td>\n",
       "      <td>1553943651155431424</td>\n",
       "      <td>{'retweet_count': 0, 'reply_count': 0, 'like_c...</td>\n",
       "      <td>Saitama SaitamaWolfPack SaitaPro Saita Crypto ...</td>\n",
       "      <td>2022-08-01 03:20:11+00:00</td>\n",
       "      <td>NaN</td>\n",
       "    </tr>\n",
       "    <tr>\n",
       "      <th>1</th>\n",
       "      <td>230145424</td>\n",
       "      <td>1553943648819093504</td>\n",
       "      <td>{'retweet_count': 0, 'reply_count': 0, 'like_c...</td>\n",
       "      <td>Breaking news BTC Crypto Binance Altcoins ADA ...</td>\n",
       "      <td>2022-08-01 03:20:11+00:00</td>\n",
       "      <td>NaN</td>\n",
       "    </tr>\n",
       "    <tr>\n",
       "      <th>2</th>\n",
       "      <td>1125284714976141312</td>\n",
       "      <td>1553943647175036928</td>\n",
       "      <td>{'retweet_count': 0, 'reply_count': 0, 'like_c...</td>\n",
       "      <td>BTCJPY 3102007円 ETHJPY 223743円 XRPJPY 50463円 L...</td>\n",
       "      <td>2022-08-01 03:20:11+00:00</td>\n",
       "      <td>NaN</td>\n",
       "    </tr>\n",
       "    <tr>\n",
       "      <th>3</th>\n",
       "      <td>1539096372560818176</td>\n",
       "      <td>1553943635582140416</td>\n",
       "      <td>{'retweet_count': 0, 'reply_count': 0, 'like_c...</td>\n",
       "      <td>The Theory Cosmopolitanism HyperNation Watch f...</td>\n",
       "      <td>2022-08-01 03:20:08+00:00</td>\n",
       "      <td>NaN</td>\n",
       "    </tr>\n",
       "    <tr>\n",
       "      <th>4</th>\n",
       "      <td>2195266826</td>\n",
       "      <td>1553943623711981568</td>\n",
       "      <td>{'retweet_count': 0, 'reply_count': 0, 'like_c...</td>\n",
       "      <td>SaitamaWolfPack SaitaPro cryptocurrencies BTC ...</td>\n",
       "      <td>2022-08-01 03:20:05+00:00</td>\n",
       "      <td>NaN</td>\n",
       "    </tr>\n",
       "  </tbody>\n",
       "</table>\n",
       "</div>"
      ],
      "text/plain": [
       "             author_id                   id  \\\n",
       "0           2195266826  1553943651155431424   \n",
       "1            230145424  1553943648819093504   \n",
       "2  1125284714976141312  1553943647175036928   \n",
       "3  1539096372560818176  1553943635582140416   \n",
       "4           2195266826  1553943623711981568   \n",
       "\n",
       "                                      public_metrics  \\\n",
       "0  {'retweet_count': 0, 'reply_count': 0, 'like_c...   \n",
       "1  {'retweet_count': 0, 'reply_count': 0, 'like_c...   \n",
       "2  {'retweet_count': 0, 'reply_count': 0, 'like_c...   \n",
       "3  {'retweet_count': 0, 'reply_count': 0, 'like_c...   \n",
       "4  {'retweet_count': 0, 'reply_count': 0, 'like_c...   \n",
       "\n",
       "                                                text  \\\n",
       "0  Saitama SaitamaWolfPack SaitaPro Saita Crypto ...   \n",
       "1  Breaking news BTC Crypto Binance Altcoins ADA ...   \n",
       "2  BTCJPY 3102007円 ETHJPY 223743円 XRPJPY 50463円 L...   \n",
       "3  The Theory Cosmopolitanism HyperNation Watch f...   \n",
       "4  SaitamaWolfPack SaitaPro cryptocurrencies BTC ...   \n",
       "\n",
       "                 created_at  geo  \n",
       "0 2022-08-01 03:20:11+00:00  NaN  \n",
       "1 2022-08-01 03:20:11+00:00  NaN  \n",
       "2 2022-08-01 03:20:11+00:00  NaN  \n",
       "3 2022-08-01 03:20:08+00:00  NaN  \n",
       "4 2022-08-01 03:20:05+00:00  NaN  "
      ]
     },
     "execution_count": 27,
     "metadata": {},
     "output_type": "execute_result"
    }
   ],
   "source": [
    "# Preprocess data\n",
    "tweets_df.text = tweets_df['text'].apply(preprocess_tweet_text)\n",
    "tweets_df.head()"
   ]
  },
  {
   "cell_type": "code",
   "execution_count": 28,
   "id": "e05f8169-eaab-4a01-9cb8-41af0abe46c1",
   "metadata": {},
   "outputs": [
    {
     "data": {
      "text/html": [
       "<div>\n",
       "<style scoped>\n",
       "    .dataframe tbody tr th:only-of-type {\n",
       "        vertical-align: middle;\n",
       "    }\n",
       "\n",
       "    .dataframe tbody tr th {\n",
       "        vertical-align: top;\n",
       "    }\n",
       "\n",
       "    .dataframe thead th {\n",
       "        text-align: right;\n",
       "    }\n",
       "</style>\n",
       "<table border=\"1\" class=\"dataframe\">\n",
       "  <thead>\n",
       "    <tr style=\"text-align: right;\">\n",
       "      <th></th>\n",
       "      <th>author_id</th>\n",
       "      <th>id</th>\n",
       "      <th>public_metrics</th>\n",
       "      <th>text</th>\n",
       "      <th>created_at</th>\n",
       "      <th>geo</th>\n",
       "      <th>textblob_sentiment</th>\n",
       "      <th>sentiment_label</th>\n",
       "    </tr>\n",
       "  </thead>\n",
       "  <tbody>\n",
       "    <tr>\n",
       "      <th>0</th>\n",
       "      <td>2195266826</td>\n",
       "      <td>1553943651155431424</td>\n",
       "      <td>{'retweet_count': 0, 'reply_count': 0, 'like_c...</td>\n",
       "      <td>Saitama SaitamaWolfPack SaitaPro Saita Crypto ...</td>\n",
       "      <td>2022-08-01 03:20:11+00:00</td>\n",
       "      <td>NaN</td>\n",
       "      <td>0.00</td>\n",
       "      <td>Neutral</td>\n",
       "    </tr>\n",
       "    <tr>\n",
       "      <th>1</th>\n",
       "      <td>230145424</td>\n",
       "      <td>1553943648819093504</td>\n",
       "      <td>{'retweet_count': 0, 'reply_count': 0, 'like_c...</td>\n",
       "      <td>Breaking news BTC Crypto Binance Altcoins ADA ...</td>\n",
       "      <td>2022-08-01 03:20:11+00:00</td>\n",
       "      <td>NaN</td>\n",
       "      <td>0.00</td>\n",
       "      <td>Neutral</td>\n",
       "    </tr>\n",
       "    <tr>\n",
       "      <th>2</th>\n",
       "      <td>1125284714976141312</td>\n",
       "      <td>1553943647175036928</td>\n",
       "      <td>{'retweet_count': 0, 'reply_count': 0, 'like_c...</td>\n",
       "      <td>BTCJPY 3102007円 ETHJPY 223743円 XRPJPY 50463円 L...</td>\n",
       "      <td>2022-08-01 03:20:11+00:00</td>\n",
       "      <td>NaN</td>\n",
       "      <td>0.00</td>\n",
       "      <td>Neutral</td>\n",
       "    </tr>\n",
       "    <tr>\n",
       "      <th>3</th>\n",
       "      <td>1539096372560818176</td>\n",
       "      <td>1553943635582140416</td>\n",
       "      <td>{'retweet_count': 0, 'reply_count': 0, 'like_c...</td>\n",
       "      <td>The Theory Cosmopolitanism HyperNation Watch f...</td>\n",
       "      <td>2022-08-01 03:20:08+00:00</td>\n",
       "      <td>NaN</td>\n",
       "      <td>0.35</td>\n",
       "      <td>Positive</td>\n",
       "    </tr>\n",
       "    <tr>\n",
       "      <th>4</th>\n",
       "      <td>2195266826</td>\n",
       "      <td>1553943623711981568</td>\n",
       "      <td>{'retweet_count': 0, 'reply_count': 0, 'like_c...</td>\n",
       "      <td>SaitamaWolfPack SaitaPro cryptocurrencies BTC ...</td>\n",
       "      <td>2022-08-01 03:20:05+00:00</td>\n",
       "      <td>NaN</td>\n",
       "      <td>0.00</td>\n",
       "      <td>Neutral</td>\n",
       "    </tr>\n",
       "  </tbody>\n",
       "</table>\n",
       "</div>"
      ],
      "text/plain": [
       "             author_id                   id  \\\n",
       "0           2195266826  1553943651155431424   \n",
       "1            230145424  1553943648819093504   \n",
       "2  1125284714976141312  1553943647175036928   \n",
       "3  1539096372560818176  1553943635582140416   \n",
       "4           2195266826  1553943623711981568   \n",
       "\n",
       "                                      public_metrics  \\\n",
       "0  {'retweet_count': 0, 'reply_count': 0, 'like_c...   \n",
       "1  {'retweet_count': 0, 'reply_count': 0, 'like_c...   \n",
       "2  {'retweet_count': 0, 'reply_count': 0, 'like_c...   \n",
       "3  {'retweet_count': 0, 'reply_count': 0, 'like_c...   \n",
       "4  {'retweet_count': 0, 'reply_count': 0, 'like_c...   \n",
       "\n",
       "                                                text  \\\n",
       "0  Saitama SaitamaWolfPack SaitaPro Saita Crypto ...   \n",
       "1  Breaking news BTC Crypto Binance Altcoins ADA ...   \n",
       "2  BTCJPY 3102007円 ETHJPY 223743円 XRPJPY 50463円 L...   \n",
       "3  The Theory Cosmopolitanism HyperNation Watch f...   \n",
       "4  SaitamaWolfPack SaitaPro cryptocurrencies BTC ...   \n",
       "\n",
       "                 created_at  geo  textblob_sentiment sentiment_label  \n",
       "0 2022-08-01 03:20:11+00:00  NaN                0.00         Neutral  \n",
       "1 2022-08-01 03:20:11+00:00  NaN                0.00         Neutral  \n",
       "2 2022-08-01 03:20:11+00:00  NaN                0.00         Neutral  \n",
       "3 2022-08-01 03:20:08+00:00  NaN                0.35        Positive  \n",
       "4 2022-08-01 03:20:05+00:00  NaN                0.00         Neutral  "
      ]
     },
     "execution_count": 28,
     "metadata": {},
     "output_type": "execute_result"
    }
   ],
   "source": [
    "# Get the sentiment of the full_text and label it\n",
    "tweets_df['textblob_sentiment'] = get_sentiment(tweets_df, 'text')\n",
    "tweets_df['sentiment_label'] = tweets_df['textblob_sentiment'].apply(polarity_to_string)\n",
    "\n",
    "tweets_df.head()"
   ]
  },
  {
   "cell_type": "code",
   "execution_count": 29,
   "id": "dfbee082-c351-440a-a84d-13808da1882d",
   "metadata": {},
   "outputs": [
    {
     "data": {
      "text/html": [
       "<div>\n",
       "<style scoped>\n",
       "    .dataframe tbody tr th:only-of-type {\n",
       "        vertical-align: middle;\n",
       "    }\n",
       "\n",
       "    .dataframe tbody tr th {\n",
       "        vertical-align: top;\n",
       "    }\n",
       "\n",
       "    .dataframe thead th {\n",
       "        text-align: right;\n",
       "    }\n",
       "</style>\n",
       "<table border=\"1\" class=\"dataframe\">\n",
       "  <thead>\n",
       "    <tr style=\"text-align: right;\">\n",
       "      <th></th>\n",
       "      <th>text</th>\n",
       "      <th>sentiment_label</th>\n",
       "      <th>textblob_sentiment</th>\n",
       "      <th>created_at</th>\n",
       "    </tr>\n",
       "  </thead>\n",
       "  <tbody>\n",
       "    <tr>\n",
       "      <th>0</th>\n",
       "      <td>Saitama SaitamaWolfPack SaitaPro Saita Crypto ...</td>\n",
       "      <td>Neutral</td>\n",
       "      <td>0.00</td>\n",
       "      <td>2022-08-01 03:20:11+00:00</td>\n",
       "    </tr>\n",
       "    <tr>\n",
       "      <th>1</th>\n",
       "      <td>Breaking news BTC Crypto Binance Altcoins ADA ...</td>\n",
       "      <td>Neutral</td>\n",
       "      <td>0.00</td>\n",
       "      <td>2022-08-01 03:20:11+00:00</td>\n",
       "    </tr>\n",
       "    <tr>\n",
       "      <th>2</th>\n",
       "      <td>BTCJPY 3102007円 ETHJPY 223743円 XRPJPY 50463円 L...</td>\n",
       "      <td>Neutral</td>\n",
       "      <td>0.00</td>\n",
       "      <td>2022-08-01 03:20:11+00:00</td>\n",
       "    </tr>\n",
       "    <tr>\n",
       "      <th>3</th>\n",
       "      <td>The Theory Cosmopolitanism HyperNation Watch f...</td>\n",
       "      <td>Positive</td>\n",
       "      <td>0.35</td>\n",
       "      <td>2022-08-01 03:20:08+00:00</td>\n",
       "    </tr>\n",
       "    <tr>\n",
       "      <th>4</th>\n",
       "      <td>SaitamaWolfPack SaitaPro cryptocurrencies BTC ...</td>\n",
       "      <td>Neutral</td>\n",
       "      <td>0.00</td>\n",
       "      <td>2022-08-01 03:20:05+00:00</td>\n",
       "    </tr>\n",
       "  </tbody>\n",
       "</table>\n",
       "</div>"
      ],
      "text/plain": [
       "                                                text sentiment_label  \\\n",
       "0  Saitama SaitamaWolfPack SaitaPro Saita Crypto ...         Neutral   \n",
       "1  Breaking news BTC Crypto Binance Altcoins ADA ...         Neutral   \n",
       "2  BTCJPY 3102007円 ETHJPY 223743円 XRPJPY 50463円 L...         Neutral   \n",
       "3  The Theory Cosmopolitanism HyperNation Watch f...        Positive   \n",
       "4  SaitamaWolfPack SaitaPro cryptocurrencies BTC ...         Neutral   \n",
       "\n",
       "   textblob_sentiment                created_at  \n",
       "0                0.00 2022-08-01 03:20:11+00:00  \n",
       "1                0.00 2022-08-01 03:20:11+00:00  \n",
       "2                0.00 2022-08-01 03:20:11+00:00  \n",
       "3                0.35 2022-08-01 03:20:08+00:00  \n",
       "4                0.00 2022-08-01 03:20:05+00:00  "
      ]
     },
     "execution_count": 29,
     "metadata": {},
     "output_type": "execute_result"
    }
   ],
   "source": [
    "# Remove unwanted columns\n",
    "tweets_df = remove_unwanted_cols(tweets_df, ['public_metrics','geo','author_id','id'])\n",
    "tweets_df = tweets_df[['text', 'sentiment_label', 'textblob_sentiment', 'created_at']]\n",
    "tweets_df.head()"
   ]
  },
  {
   "cell_type": "markdown",
   "id": "c6fda0dc-66d6-45b1-b64a-416b2e59c24b",
   "metadata": {},
   "source": [
    "### Split dataset into Train, Test"
   ]
  },
  {
   "cell_type": "code",
   "execution_count": 32,
   "id": "67d213d8-f9b4-403e-81f2-67b9825b3d61",
   "metadata": {},
   "outputs": [],
   "source": [
    "# Same tf vector will be used for Testing sentiments on unseen trending data\n",
    "tf_vector = get_feature_vector(np.array(tweets_df.iloc[:, 1]).ravel())\n",
    "X = tf_vector.transform(np.array(tweets_df.iloc[:, 1]).ravel())\n",
    "y = np.array(tweets_df.iloc[:, 0]).ravel()\n",
    "X_train, X_test, y_train, y_test = train_test_split(X, y, test_size=0.2, random_state=30)\n"
   ]
  },
  {
   "cell_type": "code",
   "execution_count": 33,
   "id": "24b0b307-eed6-4f9c-8dc0-a21a92757b60",
   "metadata": {},
   "outputs": [
    {
     "name": "stdout",
     "output_type": "stream",
     "text": [
      "0.05\n"
     ]
    }
   ],
   "source": [
    "# Training Naive Bayes model\n",
    "NB_model = MultinomialNB()\n",
    "NB_model.fit(X_train, y_train)\n",
    "y_predict_nb = NB_model.predict(X_test)\n",
    "print(accuracy_score(y_test, y_predict_nb))"
   ]
  },
  {
   "cell_type": "code",
   "execution_count": 34,
   "id": "e01814e0-2692-4ae5-bbc0-a07f91f06760",
   "metadata": {},
   "outputs": [
    {
     "name": "stdout",
     "output_type": "stream",
     "text": [
      "0.05\n"
     ]
    }
   ],
   "source": [
    "# Training Logistics Regression model\n",
    "LR_model = LogisticRegression(solver='lbfgs')\n",
    "LR_model.fit(X_train, y_train)\n",
    "y_predict_lr = LR_model.predict(X_test)\n",
    "print(accuracy_score(y_test, y_predict_lr))"
   ]
  },
  {
   "cell_type": "markdown",
   "id": "4ca39f04-1212-46a9-9c52-28adfadd4917",
   "metadata": {},
   "source": [
    "# Play ground"
   ]
  },
  {
   "cell_type": "code",
   "execution_count": 6,
   "id": "09f40eb7-ded9-4cf1-9d88-f418308eca4c",
   "metadata": {},
   "outputs": [],
   "source": []
  },
  {
   "cell_type": "code",
   "execution_count": null,
   "id": "963b205e-ccea-4992-9bf8-cedbeebdb594",
   "metadata": {},
   "outputs": [],
   "source": []
  },
  {
   "cell_type": "code",
   "execution_count": null,
   "id": "725750c2-33fd-4d28-8f9f-66db9db1c009",
   "metadata": {},
   "outputs": [],
   "source": []
  }
 ],
 "metadata": {
  "kernelspec": {
   "display_name": "Python 3 (ipykernel)",
   "language": "python",
   "name": "python3"
  },
  "language_info": {
   "codemirror_mode": {
    "name": "ipython",
    "version": 3
   },
   "file_extension": ".py",
   "mimetype": "text/x-python",
   "name": "python",
   "nbconvert_exporter": "python",
   "pygments_lexer": "ipython3",
   "version": "3.9.12"
  }
 },
 "nbformat": 4,
 "nbformat_minor": 5
}
