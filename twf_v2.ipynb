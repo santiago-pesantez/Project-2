{
 "cells": [
  {
   "cell_type": "markdown",
   "id": "7ec1ff1f-d54c-4818-8204-d6587425b76e",
   "metadata": {},
   "source": [
    "# Trade with feelings\n",
    "## Twitter sentiment analysis"
   ]
  },
  {
   "cell_type": "code",
   "execution_count": 8,
   "id": "d48eda5b-fdbb-461c-af96-89b8dae322b5",
   "metadata": {},
   "outputs": [],
   "source": [
    "# Import required libraries\n",
    "\n",
    "import requests\n",
    "import os\n",
    "import json\n",
    "from dotenv import load_dotenv\n",
    "import time\n",
    "import pandas as pd\n",
    "import csv\n",
    "\n",
    "#import tweepy\n",
    "#from twitter_authentication import bearer_token\n",
    "\n",
    "import numpy as np\n",
    "import re\n",
    "import string\n",
    "from nltk.corpus import stopwords\n",
    "from nltk.tokenize import word_tokenize\n",
    "from sklearn.feature_extraction.text import TfidfVectorizer\n",
    "from sklearn.model_selection import train_test_split\n",
    "from nltk.stem import PorterStemmer\n",
    "from nltk.stem import WordNetLemmatizer\n",
    "\n",
    "from textblob import TextBlob\n",
    "\n",
    "# ML Libraries\n",
    "from sklearn.metrics import accuracy_score\n",
    "from sklearn.naive_bayes import MultinomialNB\n",
    "from sklearn.linear_model import LogisticRegression\n",
    "from sklearn.svm import SVC\n",
    "\n",
    "#import nltk\n",
    "#nltk.download('stopwords')\n",
    "#nltk.download('punkt')\n",
    "    \n",
    "# Global Parameters\n",
    "stop_words = set(stopwords.words('english'))\n"
   ]
  },
  {
   "cell_type": "code",
   "execution_count": 9,
   "id": "4056c5a3-9635-4428-b3c2-8baa136ab652",
   "metadata": {},
   "outputs": [
    {
     "data": {
      "text/plain": [
       "True"
      ]
     },
     "execution_count": 9,
     "metadata": {},
     "output_type": "execute_result"
    }
   ],
   "source": [
    "# Load the environment variables from the .env file by calling the load_dotenv function\n",
    "load_dotenv(\"twitter.env\")"
   ]
  },
  {
   "cell_type": "code",
   "execution_count": 10,
   "id": "1ec50d75-336c-4878-94a3-04ee47c700e0",
   "metadata": {},
   "outputs": [
    {
     "data": {
      "text/plain": [
       "NoneType"
      ]
     },
     "execution_count": 10,
     "metadata": {},
     "output_type": "execute_result"
    }
   ],
   "source": [
    "# Get the API key from the environment variable and store as Python variable\n",
    "consumer_key = os.getenv(\"CONSUMER_KEY\")\n",
    "consumer_secret = os.getenv(\"CONSUMER_SECRET\")\n",
    "access_token = os.getenv(\"ACCESS_TOKEN\")\n",
    "access_token_secret = os.getenv(\"ACCESS_TOKEN_SECRET\")\n",
    "bearer_token = os.getenv(\"BEARER_TOKEN\")\n",
    "\n",
    "type(bearer_token)"
   ]
  },
  {
   "cell_type": "markdown",
   "id": "e78597b4-130f-4f2b-a0ad-bd537ce01e07",
   "metadata": {},
   "source": [
    "### Define funtions to reuse in the code"
   ]
  },
  {
   "cell_type": "code",
   "execution_count": 11,
   "id": "ed708be3-5e45-4a11-96e4-e23a66603df8",
   "metadata": {},
   "outputs": [],
   "source": [
    "#search_url = \"https://api.twitter.com/2/tweets/search/all\"\n",
    "search_url = \"https://api.twitter.com/2/tweets/search/recent\"\n",
    "\n",
    "ticker_to_query = 'BTC'\n",
    "\n",
    "# Optional params: start_time,end_time,since_id,until_id,max_results,next_token,\n",
    "# expansions,tweet.fields,media.fields,poll.fields,place.fields,user.fields\n",
    "query_params = {'query': f'(#{ticker_to_query} -is:retweet)',\n",
    "                'tweet.fields': 'created_at,public_metrics,text,author_id', \n",
    "                'max_results': '100',\n",
    "               }\n",
    "\n",
    "def bearer_oauth(r):\n",
    "    \"\"\"\n",
    "    Method required by bearer token authentication.\n",
    "    \"\"\"\n",
    "\n",
    "    r.headers[\"Authorization\"] = f\"Bearer {bearer_token}\"\n",
    "    r.headers[\"User-Agent\"] = \"v2FullArchiveSearchPython\"\n",
    "    return r\n",
    "\n",
    "def connect_to_endpoint(url, params):\n",
    "    response = requests.request(\"GET\", url, auth=bearer_oauth, params=params)\n",
    "    print(response.status_code)\n",
    "    if response.status_code != 200:\n",
    "        raise Exception(response.status_code, response.text)\n",
    "    return response.json()\n",
    "\n",
    "def remove_unwanted_cols(dataset, cols):\n",
    "    for col in cols:\n",
    "        del dataset[col]\n",
    "    return dataset\n",
    "\n",
    "def preprocess_tweet_text(tweet):\n",
    "    tweet.lower()\n",
    "    # Remove urls\n",
    "    tweet = re.sub(r\"http\\S+|www\\S+|https\\S+\", '', tweet, flags=re.MULTILINE)\n",
    "    # Remove user @ references and '#' from tweet\n",
    "    tweet = re.sub(r'\\@\\w+|\\#','', tweet)\n",
    "    # Remove punctuations\n",
    "    tweet = tweet.translate(str.maketrans('', '', string.punctuation))\n",
    "    # Remove stopwords\n",
    "    tweet_tokens = word_tokenize(tweet)\n",
    "    filtered_words = [w for w in tweet_tokens if not w in stop_words]\n",
    "    \n",
    "    #ps = PorterStemmer()\n",
    "    #stemmed_words = [ps.stem(w) for w in filtered_words]\n",
    "    #lemmatizer = WordNetLemmatizer()\n",
    "    #lemma_words = [lemmatizer.lemmatize(w, pos='a') for w in stemmed_words]\n",
    "    \n",
    "    return \" \".join(filtered_words)\n",
    "\n",
    "def get_feature_vector(train_fit):\n",
    "    vector = TfidfVectorizer(sublinear_tf=True)\n",
    "    vector.fit(train_fit)\n",
    "    return vector\n",
    "\n",
    "def polarity_to_string(sentiment):\n",
    "    if sentiment < 0:\n",
    "        return \"Negative\"\n",
    "    elif sentiment == 0:\n",
    "        return \"Neutral\"\n",
    "    else:\n",
    "        return \"Positive\"\n",
    "\n",
    "def get_sentiment(df, txt_col):\n",
    "    return df[txt_col].map(lambda txt: TextBlob(txt).sentiment.polarity)\n"
   ]
  },
  {
   "cell_type": "code",
   "execution_count": 13,
   "id": "5e2bcc49-12e4-4632-917c-4ac358cdc49d",
   "metadata": {},
   "outputs": [
    {
     "name": "stdout",
     "output_type": "stream",
     "text": [
      "401\n"
     ]
    },
    {
     "ename": "Exception",
     "evalue": "(401, '{\\n  \"title\": \"Unauthorized\",\\n  \"type\": \"about:blank\",\\n  \"status\": 401,\\n  \"detail\": \"Unauthorized\"\\n}')",
     "output_type": "error",
     "traceback": [
      "\u001b[1;31m---------------------------------------------------------------------------\u001b[0m",
      "\u001b[1;31mException\u001b[0m                                 Traceback (most recent call last)",
      "Input \u001b[1;32mIn [13]\u001b[0m, in \u001b[0;36m<cell line: 2>\u001b[1;34m()\u001b[0m\n\u001b[0;32m      1\u001b[0m \u001b[38;5;66;03m# Request data from Twitter\u001b[39;00m\n\u001b[1;32m----> 2\u001b[0m twitter_json_response \u001b[38;5;241m=\u001b[39m \u001b[43mconnect_to_endpoint\u001b[49m\u001b[43m(\u001b[49m\u001b[43msearch_url\u001b[49m\u001b[43m,\u001b[49m\u001b[43m \u001b[49m\u001b[43mquery_params\u001b[49m\u001b[43m)\u001b[49m\n",
      "Input \u001b[1;32mIn [11]\u001b[0m, in \u001b[0;36mconnect_to_endpoint\u001b[1;34m(url, params)\u001b[0m\n\u001b[0;32m     24\u001b[0m \u001b[38;5;28mprint\u001b[39m(response\u001b[38;5;241m.\u001b[39mstatus_code)\n\u001b[0;32m     25\u001b[0m \u001b[38;5;28;01mif\u001b[39;00m response\u001b[38;5;241m.\u001b[39mstatus_code \u001b[38;5;241m!=\u001b[39m \u001b[38;5;241m200\u001b[39m:\n\u001b[1;32m---> 26\u001b[0m     \u001b[38;5;28;01mraise\u001b[39;00m \u001b[38;5;167;01mException\u001b[39;00m(response\u001b[38;5;241m.\u001b[39mstatus_code, response\u001b[38;5;241m.\u001b[39mtext)\n\u001b[0;32m     27\u001b[0m \u001b[38;5;28;01mreturn\u001b[39;00m response\u001b[38;5;241m.\u001b[39mjson()\n",
      "\u001b[1;31mException\u001b[0m: (401, '{\\n  \"title\": \"Unauthorized\",\\n  \"type\": \"about:blank\",\\n  \"status\": 401,\\n  \"detail\": \"Unauthorized\"\\n}')"
     ]
    }
   ],
   "source": [
    "# Request data from Twitter\n",
    "twitter_json_response = connect_to_endpoint(search_url, query_params)\n",
    "#print(json.dumps(twitter_json_response, indent=4, sort_keys=True))"
   ]
  },
  {
   "cell_type": "code",
   "execution_count": null,
   "id": "3427d407-45a8-4c12-bc1b-e606267efbf3",
   "metadata": {},
   "outputs": [],
   "source": [
    "#type(twitter_json_response)\n",
    "#type(twitter_json_response['data'])\n",
    "\n",
    "#print(json.dumps(twitter_json_response['data'][0], indent=4, sort_keys=True))"
   ]
  },
  {
   "cell_type": "code",
   "execution_count": 7,
   "id": "339d6e93-8ced-4ded-8112-6147e2db8606",
   "metadata": {},
   "outputs": [],
   "source": [
    "#myFile = open('twitter_data.csv', 'w', errors='ignore')\n",
    "#writer = csv.DictWriter(myFile, fieldnames=['text', 'id', 'author_id','created_at','public_metrics'])\n",
    "#writer.writeheader()\n",
    "#writer.writerows(twitter_json_response['data'])\n",
    "#myFile.close()\n",
    "\n",
    "#myFile = open('twitter_data.csv', 'r')\n",
    "#print(\"The content of the csv file is:\")\n",
    "#print(myFile.read())\n",
    "#myFile.close()\n",
    "\n",
    "\n"
   ]
  },
  {
   "cell_type": "markdown",
   "id": "8ebeb87c-7e1d-429b-8a24-ec3fc26065cd",
   "metadata": {},
   "source": [
    "### Process the data"
   ]
  },
  {
   "cell_type": "code",
   "execution_count": 22,
   "id": "3f02fca9-c795-4bc7-a44a-c62857b7d69d",
   "metadata": {},
   "outputs": [
    {
     "data": {
      "text/html": [
       "<div>\n",
       "<style scoped>\n",
       "    .dataframe tbody tr th:only-of-type {\n",
       "        vertical-align: middle;\n",
       "    }\n",
       "\n",
       "    .dataframe tbody tr th {\n",
       "        vertical-align: top;\n",
       "    }\n",
       "\n",
       "    .dataframe thead th {\n",
       "        text-align: right;\n",
       "    }\n",
       "</style>\n",
       "<table border=\"1\" class=\"dataframe\">\n",
       "  <thead>\n",
       "    <tr style=\"text-align: right;\">\n",
       "      <th></th>\n",
       "      <th>text</th>\n",
       "      <th>id</th>\n",
       "      <th>author_id</th>\n",
       "      <th>created_at</th>\n",
       "      <th>public_metrics</th>\n",
       "    </tr>\n",
       "  </thead>\n",
       "  <tbody>\n",
       "    <tr>\n",
       "      <th>0</th>\n",
       "      <td>@superconnecter IKOLF #ikolf #bsc #bscgems #10...</td>\n",
       "      <td>1554949914882641920</td>\n",
       "      <td>1552242131632136192</td>\n",
       "      <td>2022-08-03T21:58:43.000Z</td>\n",
       "      <td>{'retweet_count': 0, 'reply_count': 0, 'like_c...</td>\n",
       "    </tr>\n",
       "    <tr>\n",
       "      <th>1</th>\n",
       "      <td>You ask me how #blockchain #btc #eth#eth #Sola...</td>\n",
       "      <td>1554949909241004032</td>\n",
       "      <td>1472449896405823488</td>\n",
       "      <td>2022-08-03T21:58:42.000Z</td>\n",
       "      <td>{'retweet_count': 0, 'reply_count': 0, 'like_c...</td>\n",
       "    </tr>\n",
       "    <tr>\n",
       "      <th>2</th>\n",
       "      <td>#Ethereum price update: \\r\\n\\r\\n#ETH $1644.74 ...</td>\n",
       "      <td>1554949908284710913</td>\n",
       "      <td>1551067188882116608</td>\n",
       "      <td>2022-08-03T21:58:42.000Z</td>\n",
       "      <td>{'retweet_count': 0, 'reply_count': 0, 'like_c...</td>\n",
       "    </tr>\n",
       "    <tr>\n",
       "      <th>3</th>\n",
       "      <td>@TheMoonCarl I wish to invest in #Crypto and I...</td>\n",
       "      <td>1554949901347332097</td>\n",
       "      <td>1338149444605386752</td>\n",
       "      <td>2022-08-03T21:58:40.000Z</td>\n",
       "      <td>{'retweet_count': 0, 'reply_count': 0, 'like_c...</td>\n",
       "    </tr>\n",
       "    <tr>\n",
       "      <th>4</th>\n",
       "      <td>@Janc_102 @Bitboy_Crypto The revolutionary tok...</td>\n",
       "      <td>1554949895328792576</td>\n",
       "      <td>1550565274801537024</td>\n",
       "      <td>2022-08-03T21:58:39.000Z</td>\n",
       "      <td>{'retweet_count': 0, 'reply_count': 0, 'like_c...</td>\n",
       "    </tr>\n",
       "  </tbody>\n",
       "</table>\n",
       "</div>"
      ],
      "text/plain": [
       "                                                text                   id  \\\n",
       "0  @superconnecter IKOLF #ikolf #bsc #bscgems #10...  1554949914882641920   \n",
       "1  You ask me how #blockchain #btc #eth#eth #Sola...  1554949909241004032   \n",
       "2  #Ethereum price update: \\r\\n\\r\\n#ETH $1644.74 ...  1554949908284710913   \n",
       "3  @TheMoonCarl I wish to invest in #Crypto and I...  1554949901347332097   \n",
       "4  @Janc_102 @Bitboy_Crypto The revolutionary tok...  1554949895328792576   \n",
       "\n",
       "             author_id                created_at  \\\n",
       "0  1552242131632136192  2022-08-03T21:58:43.000Z   \n",
       "1  1472449896405823488  2022-08-03T21:58:42.000Z   \n",
       "2  1551067188882116608  2022-08-03T21:58:42.000Z   \n",
       "3  1338149444605386752  2022-08-03T21:58:40.000Z   \n",
       "4  1550565274801537024  2022-08-03T21:58:39.000Z   \n",
       "\n",
       "                                      public_metrics  \n",
       "0  {'retweet_count': 0, 'reply_count': 0, 'like_c...  \n",
       "1  {'retweet_count': 0, 'reply_count': 0, 'like_c...  \n",
       "2  {'retweet_count': 0, 'reply_count': 0, 'like_c...  \n",
       "3  {'retweet_count': 0, 'reply_count': 0, 'like_c...  \n",
       "4  {'retweet_count': 0, 'reply_count': 0, 'like_c...  "
      ]
     },
     "execution_count": 22,
     "metadata": {},
     "output_type": "execute_result"
    }
   ],
   "source": [
    "# Convert Json to DataFrame\n",
    "#tweets_df = pd.read_json(json.dumps(twitter_json_response['data']))\n",
    "tweets_df = pd.read_csv(\"twitter_data.csv\", encoding='cp1252')\n",
    "tweets_df.head()"
   ]
  },
  {
   "cell_type": "code",
   "execution_count": 23,
   "id": "5db13d18-2b83-44d4-8a3c-90d0eaeaf4d9",
   "metadata": {},
   "outputs": [
    {
     "data": {
      "text/html": [
       "<div>\n",
       "<style scoped>\n",
       "    .dataframe tbody tr th:only-of-type {\n",
       "        vertical-align: middle;\n",
       "    }\n",
       "\n",
       "    .dataframe tbody tr th {\n",
       "        vertical-align: top;\n",
       "    }\n",
       "\n",
       "    .dataframe thead th {\n",
       "        text-align: right;\n",
       "    }\n",
       "</style>\n",
       "<table border=\"1\" class=\"dataframe\">\n",
       "  <thead>\n",
       "    <tr style=\"text-align: right;\">\n",
       "      <th></th>\n",
       "      <th>text</th>\n",
       "      <th>id</th>\n",
       "      <th>author_id</th>\n",
       "      <th>created_at</th>\n",
       "      <th>public_metrics</th>\n",
       "    </tr>\n",
       "  </thead>\n",
       "  <tbody>\n",
       "    <tr>\n",
       "      <th>0</th>\n",
       "      <td>IKOLF ikolf bsc bscgems 100x floki memecoin nf...</td>\n",
       "      <td>1554949914882641920</td>\n",
       "      <td>1552242131632136192</td>\n",
       "      <td>2022-08-03T21:58:43.000Z</td>\n",
       "      <td>{'retweet_count': 0, 'reply_count': 0, 'like_c...</td>\n",
       "    </tr>\n",
       "    <tr>\n",
       "      <th>1</th>\n",
       "      <td>You ask blockchain btc etheth Solana Web30 Gam...</td>\n",
       "      <td>1554949909241004032</td>\n",
       "      <td>1472449896405823488</td>\n",
       "      <td>2022-08-03T21:58:42.000Z</td>\n",
       "      <td>{'retweet_count': 0, 'reply_count': 0, 'like_c...</td>\n",
       "    </tr>\n",
       "    <tr>\n",
       "      <th>2</th>\n",
       "      <td>Ethereum price update ETH 164474 USD Bitcoin 0...</td>\n",
       "      <td>1554949908284710913</td>\n",
       "      <td>1551067188882116608</td>\n",
       "      <td>2022-08-03T21:58:42.000Z</td>\n",
       "      <td>{'retweet_count': 0, 'reply_count': 0, 'like_c...</td>\n",
       "    </tr>\n",
       "    <tr>\n",
       "      <th>3</th>\n",
       "      <td>I wish invest Crypto I believe life turn aroun...</td>\n",
       "      <td>1554949901347332097</td>\n",
       "      <td>1338149444605386752</td>\n",
       "      <td>2022-08-03T21:58:40.000Z</td>\n",
       "      <td>{'retweet_count': 0, 'reply_count': 0, 'like_c...</td>\n",
       "    </tr>\n",
       "    <tr>\n",
       "      <th>4</th>\n",
       "      <td>The revolutionary token provides holders PASSI...</td>\n",
       "      <td>1554949895328792576</td>\n",
       "      <td>1550565274801537024</td>\n",
       "      <td>2022-08-03T21:58:39.000Z</td>\n",
       "      <td>{'retweet_count': 0, 'reply_count': 0, 'like_c...</td>\n",
       "    </tr>\n",
       "  </tbody>\n",
       "</table>\n",
       "</div>"
      ],
      "text/plain": [
       "                                                text                   id  \\\n",
       "0  IKOLF ikolf bsc bscgems 100x floki memecoin nf...  1554949914882641920   \n",
       "1  You ask blockchain btc etheth Solana Web30 Gam...  1554949909241004032   \n",
       "2  Ethereum price update ETH 164474 USD Bitcoin 0...  1554949908284710913   \n",
       "3  I wish invest Crypto I believe life turn aroun...  1554949901347332097   \n",
       "4  The revolutionary token provides holders PASSI...  1554949895328792576   \n",
       "\n",
       "             author_id                created_at  \\\n",
       "0  1552242131632136192  2022-08-03T21:58:43.000Z   \n",
       "1  1472449896405823488  2022-08-03T21:58:42.000Z   \n",
       "2  1551067188882116608  2022-08-03T21:58:42.000Z   \n",
       "3  1338149444605386752  2022-08-03T21:58:40.000Z   \n",
       "4  1550565274801537024  2022-08-03T21:58:39.000Z   \n",
       "\n",
       "                                      public_metrics  \n",
       "0  {'retweet_count': 0, 'reply_count': 0, 'like_c...  \n",
       "1  {'retweet_count': 0, 'reply_count': 0, 'like_c...  \n",
       "2  {'retweet_count': 0, 'reply_count': 0, 'like_c...  \n",
       "3  {'retweet_count': 0, 'reply_count': 0, 'like_c...  \n",
       "4  {'retweet_count': 0, 'reply_count': 0, 'like_c...  "
      ]
     },
     "execution_count": 23,
     "metadata": {},
     "output_type": "execute_result"
    }
   ],
   "source": [
    "# Preprocess data\n",
    "tweets_df.text = tweets_df['text'].apply(preprocess_tweet_text)\n",
    "tweets_df.head()"
   ]
  },
  {
   "cell_type": "code",
   "execution_count": 24,
   "id": "e05f8169-eaab-4a01-9cb8-41af0abe46c1",
   "metadata": {},
   "outputs": [
    {
     "data": {
      "text/html": [
       "<div>\n",
       "<style scoped>\n",
       "    .dataframe tbody tr th:only-of-type {\n",
       "        vertical-align: middle;\n",
       "    }\n",
       "\n",
       "    .dataframe tbody tr th {\n",
       "        vertical-align: top;\n",
       "    }\n",
       "\n",
       "    .dataframe thead th {\n",
       "        text-align: right;\n",
       "    }\n",
       "</style>\n",
       "<table border=\"1\" class=\"dataframe\">\n",
       "  <thead>\n",
       "    <tr style=\"text-align: right;\">\n",
       "      <th></th>\n",
       "      <th>text</th>\n",
       "      <th>id</th>\n",
       "      <th>author_id</th>\n",
       "      <th>created_at</th>\n",
       "      <th>public_metrics</th>\n",
       "      <th>textblob_sentiment</th>\n",
       "      <th>sentiment_label</th>\n",
       "    </tr>\n",
       "  </thead>\n",
       "  <tbody>\n",
       "    <tr>\n",
       "      <th>0</th>\n",
       "      <td>IKOLF ikolf bsc bscgems 100x floki memecoin nf...</td>\n",
       "      <td>1554949914882641920</td>\n",
       "      <td>1552242131632136192</td>\n",
       "      <td>2022-08-03T21:58:43.000Z</td>\n",
       "      <td>{'retweet_count': 0, 'reply_count': 0, 'like_c...</td>\n",
       "      <td>0.0</td>\n",
       "      <td>Neutral</td>\n",
       "    </tr>\n",
       "    <tr>\n",
       "      <th>1</th>\n",
       "      <td>You ask blockchain btc etheth Solana Web30 Gam...</td>\n",
       "      <td>1554949909241004032</td>\n",
       "      <td>1472449896405823488</td>\n",
       "      <td>2022-08-03T21:58:42.000Z</td>\n",
       "      <td>{'retweet_count': 0, 'reply_count': 0, 'like_c...</td>\n",
       "      <td>0.5</td>\n",
       "      <td>Positive</td>\n",
       "    </tr>\n",
       "    <tr>\n",
       "      <th>2</th>\n",
       "      <td>Ethereum price update ETH 164474 USD Bitcoin 0...</td>\n",
       "      <td>1554949908284710913</td>\n",
       "      <td>1551067188882116608</td>\n",
       "      <td>2022-08-03T21:58:42.000Z</td>\n",
       "      <td>{'retweet_count': 0, 'reply_count': 0, 'like_c...</td>\n",
       "      <td>0.0</td>\n",
       "      <td>Neutral</td>\n",
       "    </tr>\n",
       "    <tr>\n",
       "      <th>3</th>\n",
       "      <td>I wish invest Crypto I believe life turn aroun...</td>\n",
       "      <td>1554949901347332097</td>\n",
       "      <td>1338149444605386752</td>\n",
       "      <td>2022-08-03T21:58:40.000Z</td>\n",
       "      <td>{'retweet_count': 0, 'reply_count': 0, 'like_c...</td>\n",
       "      <td>0.5</td>\n",
       "      <td>Positive</td>\n",
       "    </tr>\n",
       "    <tr>\n",
       "      <th>4</th>\n",
       "      <td>The revolutionary token provides holders PASSI...</td>\n",
       "      <td>1554949895328792576</td>\n",
       "      <td>1550565274801537024</td>\n",
       "      <td>2022-08-03T21:58:39.000Z</td>\n",
       "      <td>{'retweet_count': 0, 'reply_count': 0, 'like_c...</td>\n",
       "      <td>0.0</td>\n",
       "      <td>Neutral</td>\n",
       "    </tr>\n",
       "  </tbody>\n",
       "</table>\n",
       "</div>"
      ],
      "text/plain": [
       "                                                text                   id  \\\n",
       "0  IKOLF ikolf bsc bscgems 100x floki memecoin nf...  1554949914882641920   \n",
       "1  You ask blockchain btc etheth Solana Web30 Gam...  1554949909241004032   \n",
       "2  Ethereum price update ETH 164474 USD Bitcoin 0...  1554949908284710913   \n",
       "3  I wish invest Crypto I believe life turn aroun...  1554949901347332097   \n",
       "4  The revolutionary token provides holders PASSI...  1554949895328792576   \n",
       "\n",
       "             author_id                created_at  \\\n",
       "0  1552242131632136192  2022-08-03T21:58:43.000Z   \n",
       "1  1472449896405823488  2022-08-03T21:58:42.000Z   \n",
       "2  1551067188882116608  2022-08-03T21:58:42.000Z   \n",
       "3  1338149444605386752  2022-08-03T21:58:40.000Z   \n",
       "4  1550565274801537024  2022-08-03T21:58:39.000Z   \n",
       "\n",
       "                                      public_metrics  textblob_sentiment  \\\n",
       "0  {'retweet_count': 0, 'reply_count': 0, 'like_c...                 0.0   \n",
       "1  {'retweet_count': 0, 'reply_count': 0, 'like_c...                 0.5   \n",
       "2  {'retweet_count': 0, 'reply_count': 0, 'like_c...                 0.0   \n",
       "3  {'retweet_count': 0, 'reply_count': 0, 'like_c...                 0.5   \n",
       "4  {'retweet_count': 0, 'reply_count': 0, 'like_c...                 0.0   \n",
       "\n",
       "  sentiment_label  \n",
       "0         Neutral  \n",
       "1        Positive  \n",
       "2         Neutral  \n",
       "3        Positive  \n",
       "4         Neutral  "
      ]
     },
     "execution_count": 24,
     "metadata": {},
     "output_type": "execute_result"
    }
   ],
   "source": [
    "# Get the sentiment of the full_text and label it\n",
    "tweets_df['textblob_sentiment'] = get_sentiment(tweets_df, 'text')\n",
    "tweets_df['sentiment_label'] = tweets_df['textblob_sentiment'].apply(polarity_to_string)\n",
    "\n",
    "tweets_df.head()"
   ]
  },
  {
   "cell_type": "code",
   "execution_count": 25,
   "id": "dfbee082-c351-440a-a84d-13808da1882d",
   "metadata": {},
   "outputs": [
    {
     "data": {
      "text/html": [
       "<div>\n",
       "<style scoped>\n",
       "    .dataframe tbody tr th:only-of-type {\n",
       "        vertical-align: middle;\n",
       "    }\n",
       "\n",
       "    .dataframe tbody tr th {\n",
       "        vertical-align: top;\n",
       "    }\n",
       "\n",
       "    .dataframe thead th {\n",
       "        text-align: right;\n",
       "    }\n",
       "</style>\n",
       "<table border=\"1\" class=\"dataframe\">\n",
       "  <thead>\n",
       "    <tr style=\"text-align: right;\">\n",
       "      <th></th>\n",
       "      <th>text</th>\n",
       "      <th>sentiment_label</th>\n",
       "      <th>textblob_sentiment</th>\n",
       "      <th>created_at</th>\n",
       "    </tr>\n",
       "  </thead>\n",
       "  <tbody>\n",
       "    <tr>\n",
       "      <th>0</th>\n",
       "      <td>IKOLF ikolf bsc bscgems 100x floki memecoin nf...</td>\n",
       "      <td>Neutral</td>\n",
       "      <td>0.0</td>\n",
       "      <td>2022-08-03T21:58:43.000Z</td>\n",
       "    </tr>\n",
       "    <tr>\n",
       "      <th>1</th>\n",
       "      <td>You ask blockchain btc etheth Solana Web30 Gam...</td>\n",
       "      <td>Positive</td>\n",
       "      <td>0.5</td>\n",
       "      <td>2022-08-03T21:58:42.000Z</td>\n",
       "    </tr>\n",
       "    <tr>\n",
       "      <th>2</th>\n",
       "      <td>Ethereum price update ETH 164474 USD Bitcoin 0...</td>\n",
       "      <td>Neutral</td>\n",
       "      <td>0.0</td>\n",
       "      <td>2022-08-03T21:58:42.000Z</td>\n",
       "    </tr>\n",
       "    <tr>\n",
       "      <th>3</th>\n",
       "      <td>I wish invest Crypto I believe life turn aroun...</td>\n",
       "      <td>Positive</td>\n",
       "      <td>0.5</td>\n",
       "      <td>2022-08-03T21:58:40.000Z</td>\n",
       "    </tr>\n",
       "    <tr>\n",
       "      <th>4</th>\n",
       "      <td>The revolutionary token provides holders PASSI...</td>\n",
       "      <td>Neutral</td>\n",
       "      <td>0.0</td>\n",
       "      <td>2022-08-03T21:58:39.000Z</td>\n",
       "    </tr>\n",
       "  </tbody>\n",
       "</table>\n",
       "</div>"
      ],
      "text/plain": [
       "                                                text sentiment_label  \\\n",
       "0  IKOLF ikolf bsc bscgems 100x floki memecoin nf...         Neutral   \n",
       "1  You ask blockchain btc etheth Solana Web30 Gam...        Positive   \n",
       "2  Ethereum price update ETH 164474 USD Bitcoin 0...         Neutral   \n",
       "3  I wish invest Crypto I believe life turn aroun...        Positive   \n",
       "4  The revolutionary token provides holders PASSI...         Neutral   \n",
       "\n",
       "   textblob_sentiment                created_at  \n",
       "0                 0.0  2022-08-03T21:58:43.000Z  \n",
       "1                 0.5  2022-08-03T21:58:42.000Z  \n",
       "2                 0.0  2022-08-03T21:58:42.000Z  \n",
       "3                 0.5  2022-08-03T21:58:40.000Z  \n",
       "4                 0.0  2022-08-03T21:58:39.000Z  "
      ]
     },
     "execution_count": 25,
     "metadata": {},
     "output_type": "execute_result"
    }
   ],
   "source": [
    "# Remove unwanted columns\n",
    "tweets_df = remove_unwanted_cols(tweets_df, ['public_metrics','author_id','id'])\n",
    "tweets_df = tweets_df[['text', 'sentiment_label', 'textblob_sentiment', 'created_at']]\n",
    "tweets_df.head()"
   ]
  },
  {
   "cell_type": "code",
   "execution_count": null,
   "id": "518cc82f-e77a-49a2-b04a-98d80c4370ad",
   "metadata": {},
   "outputs": [],
   "source": [
    "# Create CSV from DF\n",
    "myFile = open('twitter_data.csv', 'w', errors='ignore')\n",
    "writer = csv.DictWriter(myFile, fieldnames=['text', 'id', 'author_id','created_at','public_metrics'])\n",
    "writer.writeheader()\n",
    "writer.writerows(twitter_json_response['data'])\n",
    "myFile.close()"
   ]
  },
  {
   "cell_type": "markdown",
   "id": "c6fda0dc-66d6-45b1-b64a-416b2e59c24b",
   "metadata": {},
   "source": [
    "### Split dataset into Train, Test"
   ]
  },
  {
   "cell_type": "code",
   "execution_count": 32,
   "id": "67d213d8-f9b4-403e-81f2-67b9825b3d61",
   "metadata": {},
   "outputs": [],
   "source": [
    "# Same tf vector will be used for Testing sentiments on unseen trending data\n",
    "tf_vector = get_feature_vector(np.array(tweets_df.iloc[:, 1]).ravel())\n",
    "X = tf_vector.transform(np.array(tweets_df.iloc[:, 1]).ravel())\n",
    "y = np.array(tweets_df.iloc[:, 0]).ravel()\n",
    "X_train, X_test, y_train, y_test = train_test_split(X, y, test_size=0.2, random_state=30)\n"
   ]
  },
  {
   "cell_type": "code",
   "execution_count": 33,
   "id": "24b0b307-eed6-4f9c-8dc0-a21a92757b60",
   "metadata": {},
   "outputs": [
    {
     "name": "stdout",
     "output_type": "stream",
     "text": [
      "0.05\n"
     ]
    }
   ],
   "source": [
    "# Training Naive Bayes model\n",
    "NB_model = MultinomialNB()\n",
    "NB_model.fit(X_train, y_train)\n",
    "y_predict_nb = NB_model.predict(X_test)\n",
    "print(accuracy_score(y_test, y_predict_nb))"
   ]
  },
  {
   "cell_type": "code",
   "execution_count": 34,
   "id": "e01814e0-2692-4ae5-bbc0-a07f91f06760",
   "metadata": {},
   "outputs": [
    {
     "name": "stdout",
     "output_type": "stream",
     "text": [
      "0.05\n"
     ]
    }
   ],
   "source": [
    "# Training Logistics Regression model\n",
    "LR_model = LogisticRegression(solver='lbfgs')\n",
    "LR_model.fit(X_train, y_train)\n",
    "y_predict_lr = LR_model.predict(X_test)\n",
    "print(accuracy_score(y_test, y_predict_lr))"
   ]
  },
  {
   "cell_type": "markdown",
   "id": "4ca39f04-1212-46a9-9c52-28adfadd4917",
   "metadata": {},
   "source": [
    "# Play ground"
   ]
  },
  {
   "cell_type": "code",
   "execution_count": 6,
   "id": "09f40eb7-ded9-4cf1-9d88-f418308eca4c",
   "metadata": {},
   "outputs": [],
   "source": []
  },
  {
   "cell_type": "code",
   "execution_count": null,
   "id": "963b205e-ccea-4992-9bf8-cedbeebdb594",
   "metadata": {},
   "outputs": [],
   "source": []
  },
  {
   "cell_type": "code",
   "execution_count": null,
   "id": "725750c2-33fd-4d28-8f9f-66db9db1c009",
   "metadata": {},
   "outputs": [],
   "source": []
  }
 ],
 "metadata": {
  "kernelspec": {
   "display_name": "Python 3 (ipykernel)",
   "language": "python",
   "name": "python3"
  },
  "language_info": {
   "codemirror_mode": {
    "name": "ipython",
    "version": 3
   },
   "file_extension": ".py",
   "mimetype": "text/x-python",
   "name": "python",
   "nbconvert_exporter": "python",
   "pygments_lexer": "ipython3",
   "version": "3.9.12"
  }
 },
 "nbformat": 4,
 "nbformat_minor": 5
}
