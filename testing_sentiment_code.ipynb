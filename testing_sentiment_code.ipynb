{
 "cells": [
  {
   "cell_type": "code",
   "execution_count": 43,
   "id": "dd7c5fe4-a696-4a11-8a88-60808bff03a3",
   "metadata": {},
   "outputs": [],
   "source": [
    "# Import required libraries\n",
    "import os\n",
    "import tweepy\n",
    "import pandas as pd\n",
    "import re\n",
    "import string\n",
    "from nltk.corpus import stopwords\n",
    "from nltk.tokenize import word_tokenize\n",
    "from textblob import TextBlob\n",
    "import csv\n",
    "import warnings\n",
    "warnings.filterwarnings(\"ignore\")\n",
    "\n",
    "# Global Parameters\n",
    "stop_words = set(stopwords.words('english'))\n",
    "client = tweepy.Client(bearer_token='AAAAAAAAAAAAAAAAAAAAAAo3fQEAAAAA3VZitXKA19trQga7kgMTbQxExYQ%3Dv6z91zwHMULkx9WTUyfzt5fCREgU1sB7Jjm5njbh4eYjgMSwkm')\n",
    "\n",
    "# Define reusable functions\n",
    "def preprocess_tweet_text(tweet):\n",
    "    tweet.lower()\n",
    "    # Remove urls\n",
    "    tweet = re.sub(r\"http\\S+|www\\S+|https\\S+\", '', tweet, flags=re.MULTILINE)\n",
    "    # Remove user @ references and '#' from tweet\n",
    "    tweet = re.sub(r'\\@\\w+|\\#','', tweet)\n",
    "    # Remove punctuations\n",
    "    tweet = tweet.translate(str.maketrans('', '', string.punctuation))\n",
    "    # Remove stopwords\n",
    "    tweet_tokens = word_tokenize(tweet)\n",
    "    filtered_words = [w for w in tweet_tokens if not w in stop_words]\n",
    "    \n",
    "    #ps = PorterStemmer()\n",
    "    #stemmed_words = [ps.stem(w) for w in filtered_words]\n",
    "    #lemmatizer = WordNetLemmatizer()\n",
    "    #lemma_words = [lemmatizer.lemmatize(w, pos='a') for w in stemmed_words]\n",
    "    \n",
    "    return \" \".join(filtered_words)\n",
    "\n",
    "def polarity_to_string(sentiment):\n",
    "    if sentiment < 0:\n",
    "        return \"Negative\"\n",
    "    elif sentiment == 0:\n",
    "        return \"Neutral\"\n",
    "    else:\n",
    "        return \"Positive\"\n",
    "    \n",
    "def get_pd_from_twitter(ticker, n):\n",
    "    print('Requesting data, please wait...')\n",
    "    # Get tweets that contain the ticker as a hashtag\n",
    "    # -is:retweet means we don't want retweets\n",
    "    # lang:en is asking for the tweets to be in english\n",
    "    query = f'#{ticker} -is:retweet lang:en'\n",
    "    tweets = tweepy.Paginator(client.search_recent_tweets, query=query, tweet_fields=['created_at'], max_results=100).flatten(limit=int(n))\n",
    "\n",
    "    # Define DF structure\n",
    "    tweets_df = pd.DataFrame(columns=['created_at', 'text', 'sentiment_polarity', 'sentiment_label'])\n",
    "\n",
    "    for tweet in tweets:\n",
    "        txt = preprocess_tweet_text(tweet.text)\n",
    "        polarity = TextBlob(txt).sentiment.polarity\n",
    "        row = {'created_at': tweet.created_at, 'text': txt, 'sentiment_polarity' : polarity, 'sentiment_label' : polarity_to_string(polarity)}\n",
    "        tweets_df = tweets_df.append(row, ignore_index = True)\n",
    "    \n",
    "    return tweets_df\n",
    "    \n",
    "def main():\n",
    "    # Read from input\n",
    "    ticker = input(\"Please enter a crypto ticker: #\")\n",
    "    n = input(\"How many tweets do you want to retrieve?: \")\n",
    "\n",
    "    tweets_df = get_pd_from_twitter(ticker, n)\n",
    "\n",
    "    # Create a CSV file froim the tweets_df\n",
    "    print('Creating a CSV file...')\n",
    "    tweets_df.to_csv('twitter_data.csv', index=False)\n",
    "    print('CSV file created.')"
   ]
  },
  {
   "cell_type": "code",
   "execution_count": 45,
   "id": "0f9efd4f-843b-4cde-b23a-4bfbf1182a72",
   "metadata": {},
   "outputs": [
    {
     "name": "stdin",
     "output_type": "stream",
     "text": [
      "Please enter a crypto ticker: # BTC\n",
      "How many tweets do you want to retrieve?:  1000\n"
     ]
    },
    {
     "name": "stdout",
     "output_type": "stream",
     "text": [
      "Requesting data, please wait...\n",
      "Creating a CSV file...\n",
      "CSV file created.\n"
     ]
    }
   ],
   "source": [
    "main()"
   ]
  },
  {
   "cell_type": "code",
   "execution_count": null,
   "id": "62e3dc69-77be-40a2-9bc2-2651f7e41cbf",
   "metadata": {},
   "outputs": [],
   "source": []
  }
 ],
 "metadata": {
  "kernelspec": {
   "display_name": "Python 3 (ipykernel)",
   "language": "python",
   "name": "python3"
  },
  "language_info": {
   "codemirror_mode": {
    "name": "ipython",
    "version": 3
   },
   "file_extension": ".py",
   "mimetype": "text/x-python",
   "name": "python",
   "nbconvert_exporter": "python",
   "pygments_lexer": "ipython3",
   "version": "3.9.12"
  }
 },
 "nbformat": 4,
 "nbformat_minor": 5
}
